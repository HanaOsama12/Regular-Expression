{
 "cells": [
  {
   "cell_type": "code",
   "execution_count": null,
   "metadata": {},
   "outputs": [],
   "source": [
    "import re\n",
    "with open(\"data.txt\")as file: \n",
    "        y=file.readlines()   #reading the file \n",
    "print(y)\n",
    "#y= [i.strip() for i in y]\n",
    "#y"
   ]
  },
  {
   "cell_type": "code",
   "execution_count": null,
   "metadata": {},
   "outputs": [],
   "source": [
    "x=\"\"\n",
    "x=x.join(y) #inserting the what is in the text file into a string called x\n",
    "print(x) #printing the data that is new sting"
   ]
  },
  {
   "cell_type": "code",
   "execution_count": null,
   "metadata": {},
   "outputs": [],
   "source": [
    "pattern=re.compile(r\"[A-Za-z]+ \")\n",
    "matches=pattern.finditer(x)\n",
    "all_names=[]\n",
    "for i in matches :\n",
    "    print (i)\n",
    "    name_startIndex=i.span()[0]\n",
    "    name_endIndex=i.span()[1]\n",
    "#     print(email_start_index)\n",
    "#     print(email_end_index)\n",
    "    name=str(x[name_startIndex:name_endIndex])\n",
    "    #print(j)\n",
    "    all_names += [name]\n",
    "print(\"\\n\")\n",
    "print(all_names)"
   ]
  },
  {
   "cell_type": "code",
   "execution_count": null,
   "metadata": {
    "scrolled": true
   },
   "outputs": [],
   "source": [
    "all_phone_numbers=[]\n",
    "pattern=re.compile(r\"(010|011|015)+\\d{8}\") #searching for phone numbers\n",
    "matches=pattern.finditer(x)\n",
    "for i in matches :\n",
    "    print (i)\n",
    "    phone_start=i.span()[0]\n",
    "    phone_end=i.span()[1]\n",
    "#     print(r)\n",
    "#     print(y)\n",
    "    phone_no=str(x[phone_start:phone_end])\n",
    "    #print(j)\n",
    "    all_phone_numbers += [phone_no] \n",
    "print(\"\\n\")\n",
    "print(all_phone_numbers)\n",
    "\n"
   ]
  },
  {
   "cell_type": "code",
   "execution_count": null,
   "metadata": {},
   "outputs": [],
   "source": [
    "pattern=re.compile(r\"[a-zA-Z0-9_.*+-]+@[a-zA-Z0-9-*]+\\.[a-zA-Z0-9-.]{2,4}\")\n",
    "matches=pattern.finditer(x)\n",
    "all_emails=[]\n",
    "for i in matches :\n",
    "    print (i)\n",
    "    email_start_index=i.span()[0]\n",
    "    email_end_index=i.span()[1]\n",
    "#     print(email_start_index)\n",
    "#     print(email_end_index)\n",
    "    email=str(x[email_start_index:email_end_index])\n",
    "    #print(j)\n",
    "    all_emails += [email]\n",
    "print(\"\\n\")\n",
    "print(all_emails)"
   ]
  },
  {
   "cell_type": "code",
   "execution_count": null,
   "metadata": {},
   "outputs": [],
   "source": [
    "print(all_names)\n",
    "print(all_phone_numbers)\n",
    "print(all_emails)"
   ]
  }
 ],
 "metadata": {
  "kernelspec": {
   "display_name": "Python 3",
   "language": "python",
   "name": "python3"
  },
  "language_info": {
   "codemirror_mode": {
    "name": "ipython",
    "version": 3
   },
   "file_extension": ".py",
   "mimetype": "text/x-python",
   "name": "python",
   "nbconvert_exporter": "python",
   "pygments_lexer": "ipython3",
   "version": "3.8.5"
  }
 },
 "nbformat": 4,
 "nbformat_minor": 4
}
